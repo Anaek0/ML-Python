{
 "cells": [
  {
   "cell_type": "code",
   "execution_count": 10,
   "metadata": {},
   "outputs": [],
   "source": [
    "#Multiple Linear regression for Nurse Survey\n",
    "#Assomptions: \n",
    "### Regression residuals must be normally distributed.\n",
    "# - A linear relationship is assumed between the dependent variable and the independent variables.\n",
    "# - The residuals are homoscedastic and approximately rectangular-shaped.\n",
    "# - Absence of multicollinearity is expected in the model, meaning that independent variables are not too highly correlated.\n",
    "# - No Autocorrelation of the residuals.\n"
   ]
  },
  {
   "cell_type": "code",
   "execution_count": 177,
   "metadata": {},
   "outputs": [],
   "source": [
    "import numpy as np\n",
    "import pandas as pd\n",
    "import seaborn as sns\n",
    "from scipy import stats\n",
    "import matplotlib.pyplot as plt\n",
    "\n",
    "import statsmodels.api as sm\n",
    "from statsmodels.stats import diagnostic as diag\n",
    "from statsmodels.stats.outliers_influence import variance_inflation_factor\n",
    "\n",
    "from sklearn.linear_model import LinearRegression\n",
    "from sklearn.model_selection import train_test_split\n",
    "from sklearn.metrics import mean_squared_error, r2_score, mean_absolute_error\n",
    "\n",
    "%matplotlib inline"
   ]
  },
  {
   "cell_type": "code",
   "execution_count": 178,
   "metadata": {
    "scrolled": true
   },
   "outputs": [
    {
     "data": {
      "text/plain": [
       "'----------------------------------------------------------------------------------------------------'"
      ]
     },
     "metadata": {},
     "output_type": "display_data"
    },
    {
     "data": {
      "text/plain": [
       "Experience      False\n",
       "Transfer        False\n",
       "History         False\n",
       "Price           False\n",
       "Score           False\n",
       "Involvement     False\n",
       "dtype: bool"
      ]
     },
     "metadata": {},
     "output_type": "display_data"
    },
    {
     "data": {
      "text/plain": [
       "'----------------------------------------------------------------------------------------------------'"
      ]
     },
     "metadata": {},
     "output_type": "display_data"
    },
    {
     "data": {
      "text/html": [
       "<div>\n",
       "<style scoped>\n",
       "    .dataframe tbody tr th:only-of-type {\n",
       "        vertical-align: middle;\n",
       "    }\n",
       "\n",
       "    .dataframe tbody tr th {\n",
       "        vertical-align: top;\n",
       "    }\n",
       "\n",
       "    .dataframe thead th {\n",
       "        text-align: right;\n",
       "    }\n",
       "</style>\n",
       "<table border=\"1\" class=\"dataframe\">\n",
       "  <thead>\n",
       "    <tr style=\"text-align: right;\">\n",
       "      <th></th>\n",
       "      <th>Experience</th>\n",
       "      <th>Transfer</th>\n",
       "      <th>History</th>\n",
       "      <th>Price</th>\n",
       "      <th>Score</th>\n",
       "      <th>Involvement</th>\n",
       "    </tr>\n",
       "    <tr>\n",
       "      <th>index</th>\n",
       "      <th></th>\n",
       "      <th></th>\n",
       "      <th></th>\n",
       "      <th></th>\n",
       "      <th></th>\n",
       "      <th></th>\n",
       "    </tr>\n",
       "  </thead>\n",
       "  <tbody>\n",
       "    <tr>\n",
       "      <th>1</th>\n",
       "      <td>0</td>\n",
       "      <td>6</td>\n",
       "      <td>4</td>\n",
       "      <td>1</td>\n",
       "      <td>5</td>\n",
       "      <td>3</td>\n",
       "    </tr>\n",
       "    <tr>\n",
       "      <th>2</th>\n",
       "      <td>0</td>\n",
       "      <td>3</td>\n",
       "      <td>5</td>\n",
       "      <td>3</td>\n",
       "      <td>8</td>\n",
       "      <td>1</td>\n",
       "    </tr>\n",
       "    <tr>\n",
       "      <th>3</th>\n",
       "      <td>15</td>\n",
       "      <td>1</td>\n",
       "      <td>8</td>\n",
       "      <td>2</td>\n",
       "      <td>6</td>\n",
       "      <td>1</td>\n",
       "    </tr>\n",
       "    <tr>\n",
       "      <th>4</th>\n",
       "      <td>5</td>\n",
       "      <td>1</td>\n",
       "      <td>2</td>\n",
       "      <td>0</td>\n",
       "      <td>10</td>\n",
       "      <td>3</td>\n",
       "    </tr>\n",
       "    <tr>\n",
       "      <th>5</th>\n",
       "      <td>5</td>\n",
       "      <td>3</td>\n",
       "      <td>5</td>\n",
       "      <td>1</td>\n",
       "      <td>7</td>\n",
       "      <td>1</td>\n",
       "    </tr>\n",
       "  </tbody>\n",
       "</table>\n",
       "</div>"
      ],
      "text/plain": [
       "       Experience  Transfer  History  Price  Score  Involvement \n",
       "index                                                           \n",
       "1               0         6        4      1      5             3\n",
       "2               0         3        5      3      8             1\n",
       "3              15         1        8      2      6             1\n",
       "4               5         1        2      0     10             3\n",
       "5               5         3        5      1      7             1"
      ]
     },
     "metadata": {},
     "output_type": "display_data"
    }
   ],
   "source": [
    "\n",
    "# load the data and replace the '..' with nan\n",
    "econ_df = pd.read_excel('Regression_1.xlsx')\n",
    "econ_df = econ_df.replace('..','nan')\n",
    "# set the index to the year column\n",
    "econ_df = econ_df.set_index('index')\n",
    "\n",
    "\n",
    "# check for nulls\n",
    "display('-'*100)\n",
    "display(econ_df.isnull().any())\n",
    "\n",
    "# display the first five rows\n",
    "display('-'*100)\n",
    "display(econ_df.head())"
   ]
  },
  {
   "cell_type": "code",
   "execution_count": 179,
   "metadata": {
    "scrolled": true
   },
   "outputs": [
    {
     "data": {
      "text/html": [
       "<div>\n",
       "<style scoped>\n",
       "    .dataframe tbody tr th:only-of-type {\n",
       "        vertical-align: middle;\n",
       "    }\n",
       "\n",
       "    .dataframe tbody tr th {\n",
       "        vertical-align: top;\n",
       "    }\n",
       "\n",
       "    .dataframe thead th {\n",
       "        text-align: right;\n",
       "    }\n",
       "</style>\n",
       "<table border=\"1\" class=\"dataframe\">\n",
       "  <thead>\n",
       "    <tr style=\"text-align: right;\">\n",
       "      <th></th>\n",
       "      <th>Experience</th>\n",
       "      <th>Transfer</th>\n",
       "      <th>History</th>\n",
       "      <th>Price</th>\n",
       "      <th>Score</th>\n",
       "      <th>Involvement</th>\n",
       "    </tr>\n",
       "  </thead>\n",
       "  <tbody>\n",
       "    <tr>\n",
       "      <th>Experience</th>\n",
       "      <td>1.000000</td>\n",
       "      <td>0.007873</td>\n",
       "      <td>0.130427</td>\n",
       "      <td>0.046812</td>\n",
       "      <td>0.050390</td>\n",
       "      <td>0.108441</td>\n",
       "    </tr>\n",
       "    <tr>\n",
       "      <th>Transfer</th>\n",
       "      <td>0.007873</td>\n",
       "      <td>1.000000</td>\n",
       "      <td>-0.052013</td>\n",
       "      <td>0.047972</td>\n",
       "      <td>0.142417</td>\n",
       "      <td>0.050810</td>\n",
       "    </tr>\n",
       "    <tr>\n",
       "      <th>History</th>\n",
       "      <td>0.130427</td>\n",
       "      <td>-0.052013</td>\n",
       "      <td>1.000000</td>\n",
       "      <td>0.246381</td>\n",
       "      <td>0.037460</td>\n",
       "      <td>0.141575</td>\n",
       "    </tr>\n",
       "    <tr>\n",
       "      <th>Price</th>\n",
       "      <td>0.046812</td>\n",
       "      <td>0.047972</td>\n",
       "      <td>0.246381</td>\n",
       "      <td>1.000000</td>\n",
       "      <td>0.088841</td>\n",
       "      <td>0.117117</td>\n",
       "    </tr>\n",
       "    <tr>\n",
       "      <th>Score</th>\n",
       "      <td>0.050390</td>\n",
       "      <td>0.142417</td>\n",
       "      <td>0.037460</td>\n",
       "      <td>0.088841</td>\n",
       "      <td>1.000000</td>\n",
       "      <td>0.192744</td>\n",
       "    </tr>\n",
       "    <tr>\n",
       "      <th>Involvement</th>\n",
       "      <td>0.108441</td>\n",
       "      <td>0.050810</td>\n",
       "      <td>0.141575</td>\n",
       "      <td>0.117117</td>\n",
       "      <td>0.192744</td>\n",
       "      <td>1.000000</td>\n",
       "    </tr>\n",
       "  </tbody>\n",
       "</table>\n",
       "</div>"
      ],
      "text/plain": [
       "              Experience  Transfer   History     Price     Score  Involvement \n",
       "Experience      1.000000  0.007873  0.130427  0.046812  0.050390      0.108441\n",
       "Transfer        0.007873  1.000000 -0.052013  0.047972  0.142417      0.050810\n",
       "History         0.130427 -0.052013  1.000000  0.246381  0.037460      0.141575\n",
       "Price           0.046812  0.047972  0.246381  1.000000  0.088841      0.117117\n",
       "Score           0.050390  0.142417  0.037460  0.088841  1.000000      0.192744\n",
       "Involvement     0.108441  0.050810  0.141575  0.117117  0.192744      1.000000"
      ]
     },
     "metadata": {},
     "output_type": "display_data"
    },
    {
     "data": {
      "text/plain": [
       "<matplotlib.axes._subplots.AxesSubplot at 0x20c8ad91d88>"
      ]
     },
     "execution_count": 179,
     "metadata": {},
     "output_type": "execute_result"
    },
    {
     "data": {
      "image/png": "[encoded data removed]",
      "text/plain": [
       "<Figure size 432x288 with 2 Axes>"
      ]
     },
     "metadata": {
      "needs_background": "light"
     },
     "output_type": "display_data"
    }
   ],
   "source": [
    "#print out the correlation frame\n",
    "\n",
    "# calculate the correlation matrix\n",
    "corr = econ_df.corr()\n",
    "\n",
    "# display the correlation matrix\n",
    "display(corr)\n",
    "\n",
    "# plot the correlation heatmap\n",
    "sns.heatmap(corr, xticklabels=corr.columns, yticklabels=corr.columns, cmap='RdBu')"
   ]
  },
  {
   "cell_type": "code",
   "execution_count": 180,
   "metadata": {},
   "outputs": [
    {
     "data": {
      "text/html": [
       "<div>\n",
       "<style scoped>\n",
       "    .dataframe tbody tr th:only-of-type {\n",
       "        vertical-align: middle;\n",
       "    }\n",
       "\n",
       "    .dataframe tbody tr th {\n",
       "        vertical-align: top;\n",
       "    }\n",
       "\n",
       "    .dataframe thead th {\n",
       "        text-align: right;\n",
       "    }\n",
       "</style>\n",
       "<table border=\"1\" class=\"dataframe\">\n",
       "  <thead>\n",
       "    <tr style=\"text-align: right;\">\n",
       "      <th></th>\n",
       "      <th>Experience</th>\n",
       "      <th>Transfer</th>\n",
       "      <th>History</th>\n",
       "      <th>Price</th>\n",
       "      <th>Score</th>\n",
       "      <th>Involvement</th>\n",
       "    </tr>\n",
       "  </thead>\n",
       "  <tbody>\n",
       "    <tr>\n",
       "      <th>count</th>\n",
       "      <td>61.000000</td>\n",
       "      <td>61.000000</td>\n",
       "      <td>61.000000</td>\n",
       "      <td>61.000000</td>\n",
       "      <td>61.000000</td>\n",
       "      <td>61.000000</td>\n",
       "    </tr>\n",
       "    <tr>\n",
       "      <th>mean</th>\n",
       "      <td>7.934426</td>\n",
       "      <td>3.770492</td>\n",
       "      <td>4.180328</td>\n",
       "      <td>1.540984</td>\n",
       "      <td>6.786885</td>\n",
       "      <td>1.901639</td>\n",
       "    </tr>\n",
       "    <tr>\n",
       "      <th>std</th>\n",
       "      <td>6.374085</td>\n",
       "      <td>2.019847</td>\n",
       "      <td>1.979126</td>\n",
       "      <td>0.958710</td>\n",
       "      <td>2.550260</td>\n",
       "      <td>1.075561</td>\n",
       "    </tr>\n",
       "    <tr>\n",
       "      <th>min</th>\n",
       "      <td>0.000000</td>\n",
       "      <td>1.000000</td>\n",
       "      <td>0.000000</td>\n",
       "      <td>0.000000</td>\n",
       "      <td>0.000000</td>\n",
       "      <td>0.000000</td>\n",
       "    </tr>\n",
       "    <tr>\n",
       "      <th>25%</th>\n",
       "      <td>2.000000</td>\n",
       "      <td>3.000000</td>\n",
       "      <td>3.000000</td>\n",
       "      <td>1.000000</td>\n",
       "      <td>6.000000</td>\n",
       "      <td>1.000000</td>\n",
       "    </tr>\n",
       "    <tr>\n",
       "      <th>50%</th>\n",
       "      <td>5.000000</td>\n",
       "      <td>3.000000</td>\n",
       "      <td>4.000000</td>\n",
       "      <td>1.000000</td>\n",
       "      <td>7.000000</td>\n",
       "      <td>1.000000</td>\n",
       "    </tr>\n",
       "    <tr>\n",
       "      <th>75%</th>\n",
       "      <td>15.000000</td>\n",
       "      <td>6.000000</td>\n",
       "      <td>5.000000</td>\n",
       "      <td>2.000000</td>\n",
       "      <td>9.000000</td>\n",
       "      <td>3.000000</td>\n",
       "    </tr>\n",
       "    <tr>\n",
       "      <th>max</th>\n",
       "      <td>15.000000</td>\n",
       "      <td>6.000000</td>\n",
       "      <td>9.000000</td>\n",
       "      <td>5.000000</td>\n",
       "      <td>10.000000</td>\n",
       "      <td>3.000000</td>\n",
       "    </tr>\n",
       "    <tr>\n",
       "      <th>+3_std</th>\n",
       "      <td>27.056682</td>\n",
       "      <td>9.830032</td>\n",
       "      <td>10.117706</td>\n",
       "      <td>4.417115</td>\n",
       "      <td>14.437665</td>\n",
       "      <td>5.128321</td>\n",
       "    </tr>\n",
       "    <tr>\n",
       "      <th>-3_std</th>\n",
       "      <td>-11.187829</td>\n",
       "      <td>-2.289049</td>\n",
       "      <td>-1.757050</td>\n",
       "      <td>-1.335148</td>\n",
       "      <td>-0.863894</td>\n",
       "      <td>-1.325042</td>\n",
       "    </tr>\n",
       "  </tbody>\n",
       "</table>\n",
       "</div>"
      ],
      "text/plain": [
       "        Experience   Transfer    History      Price      Score  Involvement \n",
       "count    61.000000  61.000000  61.000000  61.000000  61.000000     61.000000\n",
       "mean      7.934426   3.770492   4.180328   1.540984   6.786885      1.901639\n",
       "std       6.374085   2.019847   1.979126   0.958710   2.550260      1.075561\n",
       "min       0.000000   1.000000   0.000000   0.000000   0.000000      0.000000\n",
       "25%       2.000000   3.000000   3.000000   1.000000   6.000000      1.000000\n",
       "50%       5.000000   3.000000   4.000000   1.000000   7.000000      1.000000\n",
       "75%      15.000000   6.000000   5.000000   2.000000   9.000000      3.000000\n",
       "max      15.000000   6.000000   9.000000   5.000000  10.000000      3.000000\n",
       "+3_std   27.056682   9.830032  10.117706   4.417115  14.437665      5.128321\n",
       "-3_std  -11.187829  -2.289049  -1.757050  -1.335148  -0.863894     -1.325042"
      ]
     },
     "execution_count": 180,
     "metadata": {},
     "output_type": "execute_result"
    }
   ],
   "source": [
    "\n",
    "# get the summary\n",
    "desc_df = econ_df.describe()\n",
    "\n",
    "# add the standard deviation metric\n",
    "desc_df.loc['+3_std'] = desc_df.loc['mean'] + (desc_df.loc['std'] * 3)\n",
    "desc_df.loc['-3_std'] = desc_df.loc['mean'] - (desc_df.loc['std'] * 3)\n",
    "\n",
    "# display it\n",
    "desc_df"
   ]
  },
  {
   "cell_type": "code",
   "execution_count": 181,
   "metadata": {},
   "outputs": [
    {
     "data": {
      "text/plain": [
       "LinearRegression(copy_X=True, fit_intercept=True, n_jobs=None, normalize=False)"
      ]
     },
     "execution_count": 181,
     "metadata": {},
     "output_type": "execute_result"
    }
   ],
   "source": [
    "\n",
    "# define our input variable (X) & output variable\n",
    "\n",
    "X = econ_df.drop('Price', axis = 1)\n",
    "Y = econ_df[['Price']]\n",
    "\n",
    "# Split X and y into X_\n",
    "X_train, X_test, y_train, y_test = train_test_split(X, Y, test_size=0.20, random_state=1)\n",
    "\n",
    "# create a Linear Regression model object\n",
    "regression_model = LinearRegression()\n",
    "\n",
    "# pass through the X_train & y_train data set\n",
    "regression_model.fit(X_train, y_train)"
   ]
  },
  {
   "cell_type": "code",
   "execution_count": 182,
   "metadata": {},
   "outputs": [
    {
     "name": "stdout",
     "output_type": "stream",
     "text": [
      "The intercept for our model is 0.5866\n",
      "----------------------------------------------------------------------------------------------------\n",
      "The Coefficient for Experience is 0.014\n",
      "The Coefficient for Transfer is 0.0087\n",
      "The Coefficient for History is 0.14\n",
      "The Coefficient for Score is 0.023\n",
      "The Coefficient for Involvement  is 0.043\n"
     ]
    }
   ],
   "source": [
    "# let's grab the coefficient of our model and the intercept\n",
    "intercept = regression_model.intercept_[0]\n",
    "coefficent = regression_model.coef_[0][0]\n",
    "\n",
    "print(\"The intercept for our model is {:.4}\".format(intercept))\n",
    "print('-'*100)\n",
    "\n",
    "# loop through the dictionary and print the data\n",
    "for coef in zip(X.columns, regression_model.coef_[0]):\n",
    "    print(\"The Coefficient for {} is {:.2}\".format(coef[0],coef[1]))"
   ]
  },
  {
   "cell_type": "code",
   "execution_count": 183,
   "metadata": {},
   "outputs": [
    {
     "name": "stdout",
     "output_type": "stream",
     "text": [
      "[[1.51028671]\n",
      " [0.99340099]\n",
      " [2.12425899]\n",
      " [1.43714776]\n",
      " [1.59439065]\n",
      " [1.525281  ]\n",
      " [1.95720097]\n",
      " [1.38333908]\n",
      " [1.93139482]\n",
      " [1.98213448]\n",
      " [1.59142284]\n",
      " [1.73311103]\n",
      " [1.52083249]]\n"
     ]
    }
   ],
   "source": [
    "\n",
    "# Get multiple predictions\n",
    "y_predict = regression_model.predict(X_test)\n",
    "print(y_predict)\n"
   ]
  },
  {
   "cell_type": "code",
   "execution_count": 184,
   "metadata": {},
   "outputs": [],
   "source": [
    "\n",
    "# define our intput\n",
    "X2 = sm.add_constant(X)\n",
    "\n",
    "# create a OLS model\n",
    "model = sm.OLS(Y, X2)\n",
    "\n",
    "# fit the data\n",
    "est = model.fit()"
   ]
  },
  {
   "cell_type": "code",
   "execution_count": 185,
   "metadata": {},
   "outputs": [
    {
     "name": "stdout",
     "output_type": "stream",
     "text": [
      "0.8981586970776371 0.9433359268427061\n",
      "----------------------------------------------------------------------------------------------------\n",
      "For the White's Test\n",
      "The p-value was 0.8982\n",
      "We fail to reject the null hypthoesis, so there is no heterosecdasticity. \n",
      "\n",
      "0.6692883016016471 0.6934119331601751\n",
      "----------------------------------------------------------------------------------------------------\n",
      "For the Breusch-Pagan's Test\n",
      "The p-value was 0.6693\n",
      "We fail to reject the null hypthoesis, so there is no heterosecdasticity.\n"
     ]
    }
   ],
   "source": [
    "#Elavuete our model for heteroscedasticity that means the error is costant over time.\n",
    "_, pval, __, f_pval = diag.het_white(est.resid, est.model.exog)\n",
    "print(pval, f_pval)\n",
    "print('-'*100)\n",
    "\n",
    "# print the results of the test\n",
    "if pval > 0.05:\n",
    "    print(\"For the White's Test\")\n",
    "    print(\"The p-value was {:.4}\".format(pval))\n",
    "    print(\"We fail to reject the null hypthoesis, so there is no heterosecdasticity. \\n\")\n",
    "    \n",
    "else:\n",
    "    print(\"For the White's Test\")\n",
    "    print(\"The p-value was {:.4}\".format(pval))\n",
    "    print(\"We reject the null hypthoesis, so there is heterosecdasticity. \\n\")\n",
    "\n",
    "# Run the Breusch-Pagan test\n",
    "_, pval, __, f_pval = diag.het_breuschpagan(est.resid, est.model.exog)\n",
    "print(pval, f_pval)\n",
    "print('-'*100)\n",
    "\n",
    "# print the results of the test\n",
    "if pval > 0.05:\n",
    "    print(\"For the Breusch-Pagan's Test\")\n",
    "    print(\"The p-value was {:.4}\".format(pval))\n",
    "    print(\"We fail to reject the null hypthoesis, so there is no heterosecdasticity.\")\n",
    "\n",
    "else:\n",
    "    print(\"For the Breusch-Pagan's Test\")\n",
    "    print(\"The p-value was {:.4}\".format(pval))\n",
    "    print(\"We reject the null hypthoesis, so there is heterosecdasticity.\")   "
   ]
  },
  {
   "cell_type": "code",
   "execution_count": 186,
   "metadata": {},
   "outputs": [
    {
     "name": "stdout",
     "output_type": "stream",
     "text": [
      "The number of lags will be 10\n",
      "----------------------------------------------------------------------------------------------------\n",
      "The lowest p-value found was 0.04315\n",
      "We reject the null hypthoesis, so there is autocorrelation.\n",
      "----------------------------------------------------------------------------------------------------\n"
     ]
    },
    {
     "name": "stderr",
     "output_type": "stream",
     "text": [
      "C:\\Users\\andrea\\anaconda3\\lib\\site-packages\\statsmodels\\stats\\diagnostic.py:524: FutureWarning: The value returned will change to a single DataFrame after 0.12 is released.  Set return_df to True to use to return a DataFrame now.  Set return_df to False to silence this warning.\n",
      "  warnings.warn(msg, FutureWarning)\n"
     ]
    },
    {
     "data": {
      "image/png": "[encoded data removed]",
      "text/plain": [
       "<Figure size 432x288 with 1 Axes>"
      ]
     },
     "metadata": {
      "needs_background": "light"
     },
     "output_type": "display_data"
    }
   ],
   "source": [
    "# test for autocorrelation (Important only for time-Series regressions not this one)\n",
    "from statsmodels.stats.stattools import durbin_watson\n",
    "\n",
    "# calculate the lag, optional\n",
    "lag = min(10, (len(X)//5))\n",
    "print('The number of lags will be {}'.format(lag))\n",
    "print('-'*100)\n",
    "\n",
    "# run the Ljung-Box test for no autocorrelation of residuals\n",
    "# test_results = diag.acorr_breusch_godfrey(est, nlags = lag, store = True)\n",
    "test_results = diag.acorr_ljungbox(est.resid, lags = lag)\n",
    "\n",
    "# grab the p-values and the test statistics\n",
    "ibvalue, p_val = test_results\n",
    "\n",
    "# print the results of the test\n",
    "if min(p_val) > 0.05:\n",
    "    print(\"The lowest p-value found was {:.4}\".format(min(p_val)))\n",
    "    print(\"We fail to reject the null hypthoesis, so there is no autocorrelation.\")\n",
    "    print('-'*100)\n",
    "else:\n",
    "    print(\"The lowest p-value found was {:.4}\".format(min(p_val)))\n",
    "    print(\"We reject the null hypthoesis, so there is autocorrelation.\")\n",
    "    print('-'*100)\n",
    "\n",
    "# plot autocorrelation\n",
    "sm.graphics.tsa.plot_acf(est.resid)\n",
    "plt.show()"
   ]
  },
  {
   "cell_type": "code",
   "execution_count": 187,
   "metadata": {},
   "outputs": [
    {
     "data": {
      "image/png": "[encoded data removed]",
      "text/plain": [
       "<Figure size 432x288 with 1 Axes>"
      ]
     },
     "metadata": {
      "needs_background": "light"
     },
     "output_type": "display_data"
    },
    {
     "name": "stdout",
     "output_type": "stream",
     "text": [
      "The mean of the residuals is 1.966e-16\n"
     ]
    }
   ],
   "source": [
    "\n",
    "import pylab\n",
    "\n",
    "# check for the normality of the residuals\n",
    "sm.qqplot(est.resid, line='s')\n",
    "pylab.show()\n",
    "\n",
    "# also check that the mean of the residuals is approx. 0.\n",
    "mean_residuals = sum(est.resid)/ len(est.resid)\n",
    "print(\"The mean of the residuals is {:.4}\".format(mean_residuals))"
   ]
  },
  {
   "cell_type": "code",
   "execution_count": 188,
   "metadata": {},
   "outputs": [
    {
     "name": "stdout",
     "output_type": "stream",
     "text": [
      "MSE 0.701\n",
      "MAE 0.707\n",
      "RMSE 0.837\n"
     ]
    }
   ],
   "source": [
    "import math\n",
    "# calculate the mean squared error\n",
    "model_mse = mean_squared_error(y_test, y_predict)\n",
    "\n",
    "# calculate the mean absolute error\n",
    "model_mae = mean_absolute_error(y_test, y_predict)\n",
    "\n",
    "# calulcate the root mean squared error\n",
    "model_rmse =  math.sqrt(model_mse)\n",
    "\n",
    "# display the output\n",
    "print(\"MSE {:.3}\".format(model_mse))\n",
    "print(\"MAE {:.3}\".format(model_mae))\n",
    "print(\"RMSE {:.3}\".format(model_rmse))"
   ]
  },
  {
   "cell_type": "code",
   "execution_count": 189,
   "metadata": {},
   "outputs": [
    {
     "name": "stdout",
     "output_type": "stream",
     "text": [
      "R2: -0.26\n"
     ]
    }
   ],
   "source": [
    "model_r2 = r2_score(y_test, y_predict)\n",
    "print(\"R2: {:.2}\".format(model_r2))"
   ]
  },
  {
   "cell_type": "code",
   "execution_count": 190,
   "metadata": {},
   "outputs": [
    {
     "data": {
      "text/html": [
       "<div>\n",
       "<style scoped>\n",
       "    .dataframe tbody tr th:only-of-type {\n",
       "        vertical-align: middle;\n",
       "    }\n",
       "\n",
       "    .dataframe tbody tr th {\n",
       "        vertical-align: top;\n",
       "    }\n",
       "\n",
       "    .dataframe thead th {\n",
       "        text-align: right;\n",
       "    }\n",
       "</style>\n",
       "<table border=\"1\" class=\"dataframe\">\n",
       "  <thead>\n",
       "    <tr style=\"text-align: right;\">\n",
       "      <th></th>\n",
       "      <th>0</th>\n",
       "      <th>1</th>\n",
       "    </tr>\n",
       "  </thead>\n",
       "  <tbody>\n",
       "    <tr>\n",
       "      <th>const</th>\n",
       "      <td>-0.304320</td>\n",
       "      <td>1.706515</td>\n",
       "    </tr>\n",
       "    <tr>\n",
       "      <th>Experience</th>\n",
       "      <td>-0.038859</td>\n",
       "      <td>0.040400</td>\n",
       "    </tr>\n",
       "    <tr>\n",
       "      <th>Transfer</th>\n",
       "      <td>-0.102074</td>\n",
       "      <td>0.147852</td>\n",
       "    </tr>\n",
       "    <tr>\n",
       "      <th>History</th>\n",
       "      <td>-0.013950</td>\n",
       "      <td>0.242781</td>\n",
       "    </tr>\n",
       "    <tr>\n",
       "      <th>Score</th>\n",
       "      <td>-0.078218</td>\n",
       "      <td>0.122976</td>\n",
       "    </tr>\n",
       "    <tr>\n",
       "      <th>Involvement</th>\n",
       "      <td>-0.177743</td>\n",
       "      <td>0.301103</td>\n",
       "    </tr>\n",
       "  </tbody>\n",
       "</table>\n",
       "</div>"
      ],
      "text/plain": [
       "                     0         1\n",
       "const        -0.304320  1.706515\n",
       "Experience   -0.038859  0.040400\n",
       "Transfer     -0.102074  0.147852\n",
       "History      -0.013950  0.242781\n",
       "Score        -0.078218  0.122976\n",
       "Involvement  -0.177743  0.301103"
      ]
     },
     "execution_count": 190,
     "metadata": {},
     "output_type": "execute_result"
    }
   ],
   "source": [
    "# make some confidence intervals, 95% by default\n",
    "est.conf_int()"
   ]
  },
  {
   "cell_type": "code",
   "execution_count": 191,
   "metadata": {},
   "outputs": [
    {
     "data": {
      "text/plain": [
       "const           0.167887\n",
       "Experience      0.969060\n",
       "Transfer        0.714974\n",
       "History         0.079571\n",
       "Score           0.657477\n",
       "Involvement     0.607728\n",
       "dtype: float64"
      ]
     },
     "execution_count": 191,
     "metadata": {},
     "output_type": "execute_result"
    }
   ],
   "source": [
    "# estimate the p-values\n",
    "est.pvalues"
   ]
  },
  {
   "cell_type": "code",
   "execution_count": 192,
   "metadata": {},
   "outputs": [
    {
     "name": "stdout",
     "output_type": "stream",
     "text": [
      "                            OLS Regression Results                            \n",
      "==============================================================================\n",
      "Dep. Variable:                  Price   R-squared:                       0.074\n",
      "Model:                            OLS   Adj. R-squared:                 -0.010\n",
      "Method:                 Least Squares   F-statistic:                    0.8808\n",
      "Date:                Mon, 23 Mar 2020   Prob (F-statistic):              0.500\n",
      "Time:                        02:27:37   Log-Likelihood:                -81.129\n",
      "No. Observations:                  61   AIC:                             174.3\n",
      "Df Residuals:                      55   BIC:                             186.9\n",
      "Df Model:                           5                                         \n",
      "Covariance Type:            nonrobust                                         \n",
      "================================================================================\n",
      "                   coef    std err          t      P>|t|      [0.025      0.975]\n",
      "--------------------------------------------------------------------------------\n",
      "const            0.7011      0.502      1.397      0.168      -0.304       1.707\n",
      "Experience       0.0008      0.020      0.039      0.969      -0.039       0.040\n",
      "Transfer         0.0229      0.062      0.367      0.715      -0.102       0.148\n",
      "History          0.1144      0.064      1.786      0.080      -0.014       0.243\n",
      "Score            0.0224      0.050      0.446      0.657      -0.078       0.123\n",
      "Involvement      0.0617      0.119      0.516      0.608      -0.178       0.301\n",
      "==============================================================================\n",
      "Omnibus:                        7.795   Durbin-Watson:                   2.061\n",
      "Prob(Omnibus):                  0.020   Jarque-Bera (JB):                7.065\n",
      "Skew:                           0.712   Prob(JB):                       0.0292\n",
      "Kurtosis:                       3.867   Cond. No.                         53.2\n",
      "==============================================================================\n",
      "\n",
      "Warnings:\n",
      "[1] Standard Errors assume that the covariance matrix of the errors is correctly specified.\n"
     ]
    }
   ],
   "source": [
    "# print out a summary\n",
    "print(est.summary())"
   ]
  },
  {
   "cell_type": "code",
   "execution_count": null,
   "metadata": {},
   "outputs": [],
   "source": []
  },
  {
   "cell_type": "code",
   "execution_count": null,
   "metadata": {},
   "outputs": [],
   "source": []
  }
 ],
 "metadata": {
  "kernelspec": {
   "display_name": "Python 3",
   "language": "python",
   "name": "python3"
  },
  "language_info": {
   "codemirror_mode": {
    "name": "ipython",
    "version": 3
   },
   "file_extension": ".py",
   "mimetype": "text/x-python",
   "name": "python",
   "nbconvert_exporter": "python",
   "pygments_lexer": "ipython3",
   "version": "3.7.6"
  }
 },
 "nbformat": 4,
 "nbformat_minor": 4
}
